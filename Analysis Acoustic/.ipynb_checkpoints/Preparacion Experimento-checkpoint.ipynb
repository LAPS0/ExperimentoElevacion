{
 "cells": [
  {
   "cell_type": "markdown",
   "id": "fee6d468",
   "metadata": {},
   "source": [
    "# Preparacion experimento\n",
    "\n",
    "En este experimento hay seis bloques\n",
    "\n",
    "1 Intensidad fija en el oyente\n",
    "\n",
    "2 Intensidad fija en el parlante\n",
    "\n",
<<<<<<< Updated upstream
    "3 Intensidad Roved a partir de fija en el oyente (OJO cambio)\n",
=======
    "3 Intensidad Roved a partir de fija en el parlante\n",
>>>>>>> Stashed changes
    "\n",
    "A Parlantes arriba\n",
    "\n",
    "B Parlantes abajo\n",
    "\n",
    "Primera parte ajustar los niveles de audio para que de fijo a 1m del parlante\n",
    "Queda guardado en dB_parlante_fijo\n",
    "\n",
    "Segunda parte ajustar los niveles de audio para que de fijo en el oido\n",
    "Queda guardado en dB_oido_fijo\n",
    "\n",
    "Roved se hace on line\n",
    "\n",
    "Tercera parte determina la duracion del enmascarante\n",
    "\n",
    "\n",
    "Cuarta parte genera los bloques contrabalanceado\n",
    "\n"
   ]
  },
  {
   "cell_type": "code",
   "execution_count": 1,
   "id": "93b21fe1",
   "metadata": {
    "ExecuteTime": {
     "end_time": "2022-12-05T21:29:13.787279Z",
     "start_time": "2022-12-05T21:29:13.087507Z"
    }
   },
   "outputs": [],
   "source": [
    "import numpy as np\n",
    "from scipy.io import wavfile\n",
    "from time import sleep"
   ]
  },
  {
   "cell_type": "code",
   "execution_count": 2,
   "id": "dd944ebb",
   "metadata": {
    "ExecuteTime": {
     "end_time": "2022-12-05T21:29:16.669137Z",
     "start_time": "2022-12-05T21:29:15.699284Z"
    }
   },
   "outputs": [],
   "source": [
    "import matplotlib.pyplot as plt\n",
    "import matplotlib\n",
    "matplotlib.rcParams['figure.figsize'] = (28, 6)\n",
    "from ipywidgets import interact"
   ]
  },
  {
   "cell_type": "code",
   "execution_count": 3,
   "id": "6a72fc6a",
   "metadata": {
    "ExecuteTime": {
     "end_time": "2022-12-05T21:29:18.256258Z",
     "start_time": "2022-12-05T21:29:17.673076Z"
    }
   },
   "outputs": [],
   "source": [
    "import sounddevice as sd"
   ]
  },
  {
   "cell_type": "code",
   "execution_count": 4,
   "id": "14de8aec",
   "metadata": {
    "ExecuteTime": {
     "end_time": "2022-12-05T21:29:19.681861Z",
     "start_time": "2022-12-05T21:29:19.665879Z"
    }
   },
   "outputs": [
    {
     "data": {
      "text/plain": [
       "  0 Built-in Output, Core Audio (0 in, 2 out)\n",
       "* 1 MOTU 896mk3 Hybrid, Core Audio (22 in, 22 out)"
      ]
     },
     "execution_count": 4,
     "metadata": {},
     "output_type": "execute_result"
    }
   ],
   "source": [
    "sd.query_devices()"
   ]
  },
  {
   "cell_type": "code",
   "execution_count": 5,
   "id": "cbf1d8c0",
   "metadata": {
    "ExecuteTime": {
     "end_time": "2022-12-02T02:57:57.786129Z",
     "start_time": "2022-12-02T02:57:57.768938Z"
    }
   },
   "outputs": [],
   "source": [
    "sd.default.device = [1,1]\n",
    "fs = 96000\n",
    "apath = \"./Audios/\""
   ]
  },
  {
   "cell_type": "code",
   "execution_count": 6,
   "id": "41385c33",
   "metadata": {},
   "outputs": [],
   "source": [
    "def sigmoid(x,x0=0,a=1):\n",
    "    x1 = 2*(x-x0)/a\n",
    "    sig = np.where(x1 < 0, np.exp(x1)/(1 + np.exp(x1)), 1/(1 + np.exp(-x1)))\n",
    "    return sig"
   ]
  },
  {
   "cell_type": "markdown",
   "id": "9324fbc4",
   "metadata": {},
   "source": [
    "# Carga audios y ajusta los nivele de forma interactiva\n",
    "\n",
    "Como resultado guarda un array con el ajuste en dB en dB_ajuste.npy"
   ]
  },
  {
   "cell_type": "code",
   "execution_count": 7,
   "id": "7976d46a",
   "metadata": {
    "ExecuteTime": {
     "end_time": "2022-12-02T02:58:43.826266Z",
     "start_time": "2022-12-02T02:58:43.803178Z"
    }
   },
   "outputs": [],
   "source": [
    "parlantes = ['P1','P3','P4','P5']\n",
    "# carga los audios\n",
    "sr, w1 = wavfile.read(apath + 'wnoise_1_' + parlantes[0] + '.wav')\n",
    "sr, w2 = wavfile.read(apath + 'wnoise_2_' + parlantes[1] + '.wav')\n",
    "sr, w3 = wavfile.read(apath + 'wnoise_3_' + parlantes[2] + '.wav')\n",
    "sr, w4 = wavfile.read(apath + 'wnoise_4_' + parlantes[3] + '.wav')\n",
    "dBOK = np.array([0,0,0,0])"
   ]
  },
  {
   "cell_type": "code",
   "execution_count": 8,
   "id": "720dc038",
   "metadata": {},
   "outputs": [
    {
     "data": {
      "text/plain": [
       "(4, 47489)"
      ]
     },
     "execution_count": 8,
     "metadata": {},
     "output_type": "execute_result"
    }
   ],
   "source": [
    "w = np.vstack([w1,w2,w3,w4])\n",
    "w.shape"
   ]
  },
  {
   "cell_type": "markdown",
   "id": "2f8e9314",
   "metadata": {},
   "source": [
    "## Intensidad fija a 1m de los parlantes\n",
    " Chequeamos que este a 75 dB"
   ]
  },
  {
   "cell_type": "code",
   "execution_count": 9,
   "id": "01487244",
   "metadata": {},
   "outputs": [
    {
     "data": {
      "application/vnd.jupyter.widget-view+json": {
       "model_id": "491c4c9e46e247d081a676701d0287b4",
       "version_major": 2,
       "version_minor": 0
      },
      "text/plain": [
       "interactive(children=(FloatSlider(value=-33.0, description='dB', max=-5.0, min=-60.0), IntSlider(value=2, desc…"
      ]
     },
     "metadata": {},
     "output_type": "display_data"
    }
   ],
   "source": [
    "@interact(dB=(-60,-5,0.1), channel=(1,4))\n",
    "def playdB(dB,channel):\n",
    "    if (dB>-60):\n",
    "        sd.play(w1*np.power(10,dB/20), fs, mapping=[channel+2])\n",
    "        dBOK[channel-1] = dB"
   ]
  },
  {
   "cell_type": "code",
   "execution_count": 10,
   "id": "cc589337",
   "metadata": {
    "ExecuteTime": {
     "end_time": "2022-12-02T03:08:10.812009Z",
     "start_time": "2022-12-02T03:08:10.727979Z"
    }
   },
   "outputs": [],
   "source": [
    "dB_fijo_parlante=np.array([-33.2, -31, -32, -23])"
   ]
  },
  {
   "cell_type": "code",
   "execution_count": 11,
   "id": "cda7295c",
   "metadata": {},
   "outputs": [],
   "source": [
    "np.save(\"dB_fijo_parlante.npy\",dB_fijo_parlante)"
   ]
  },
  {
   "cell_type": "code",
   "execution_count": 49,
   "id": "842acedf",
   "metadata": {},
   "outputs": [
    {
     "data": {
      "application/vnd.jupyter.widget-view+json": {
       "model_id": "5257c23aa2e940cdb54da1a2cc36f7f4",
       "version_major": 2,
       "version_minor": 0
      },
      "text/plain": [
       "interactive(children=(IntSlider(value=3, description='channel', max=6, min=1), Output()), _dom_classes=('widge…"
      ]
     },
     "metadata": {},
     "output_type": "display_data"
    }
   ],
   "source": [
    "@interact(channel=(1,4))\n",
    "def playdB(channel):\n",
    "    sd.play(w[channel-1,:]*np.power(10,dBOK[channel-1]/20), fs, mapping=[channel+2])"
   ]
  },
  {
   "cell_type": "markdown",
   "id": "f2a0b557",
   "metadata": {},
   "source": [
    "## Intensidad fija en el punto medio entre oidos\n",
    "Chequamos con el sonometro para que ese a xx dB"
   ]
  },
  {
   "cell_type": "code",
   "execution_count": 12,
   "id": "ed62bfec",
   "metadata": {},
   "outputs": [],
   "source": [
    "dB_fijo_oido=np.array([-31, -31, -31, -31])"
   ]
  },
  {
   "cell_type": "code",
   "execution_count": 13,
   "id": "67fd1796",
   "metadata": {},
   "outputs": [
    {
     "data": {
      "application/vnd.jupyter.widget-view+json": {
       "model_id": "7677aebe16544540b0111b1406c9c866",
       "version_major": 2,
       "version_minor": 0
      },
      "text/plain": [
       "interactive(children=(FloatSlider(value=-33.0, description='dB', max=-5.0, min=-60.0), IntSlider(value=2, desc…"
      ]
     },
     "metadata": {},
     "output_type": "display_data"
    }
   ],
   "source": [
    "@interact(dB=(-60,-5,0.1), channel=(1,4))\n",
    "def playdB(dB,channel):\n",
    "    if (dB>-60):\n",
    "        sd.play(w1*np.power(10,dB/20), fs, mapping=[channel+2])\n",
    "        dB_fijo_oido[channel-1] = dB"
   ]
  },
  {
   "cell_type": "code",
   "execution_count": null,
   "id": "5924b55a",
   "metadata": {},
   "outputs": [],
   "source": [
    "np.save(\"dB_fijo_oido.npy\",dB_fijo_oido)"
   ]
  },
  {
   "cell_type": "code",
   "execution_count": null,
   "id": "7f173804",
   "metadata": {},
   "outputs": [],
   "source": [
    "@interact(channel=(1,4))\n",
    "def playdB(channel):\n",
    "    sd.play(w[channel-1,:]*np.power(10,dB_fijo_oido[channel-1]/20), fs, mapping=[channel+2])"
   ]
  },
  {
   "cell_type": "code",
   "execution_count": null,
   "id": "1722aa2c",
   "metadata": {},
   "outputs": [],
   "source": [
    "for b in bloque[0,:]:\n",
    "        sd.play(w[b-1,:]*np.power(10,dB_fijo_oido[b-1]/20), fs, mapping=[b+2])\n",
    "        sleep(3)"
   ]
  },
  {
   "cell_type": "markdown",
   "id": "9a8a83e5",
   "metadata": {},
   "source": [
    "## Duracion enmascarante"
   ]
  },
  {
   "cell_type": "code",
   "execution_count": 14,
   "id": "70db0912",
   "metadata": {},
   "outputs": [],
   "source": [
    "fs, mask = wavfile.read(apath + \"enmascarante.wav\" )"
   ]
  },
  {
   "cell_type": "code",
   "execution_count": 15,
   "id": "70e4e6f1",
   "metadata": {},
   "outputs": [],
   "source": [
    "dur_mask = 6\n",
    "fadeout = 0.5\n",
    "fadein = 0.5\n",
    "mask_new = mask[fs:int((dur_mask+1)*fs)]\n",
    "# fadein\n",
    "nfadein = int(fadein*fs)\n",
    "nfadeout = int(fadeout*fs)\n",
    "mask_new[:nfadein] *= (1-np.cos(np.arange(nfadein)*np.pi/nfadein))/2 \n",
    "mask_new[-nfadeout:] *= (np.cos(np.arange(nfadeout)*np.pi/nfadeout)+1)/2\n",
    "wavfile.write(apath + \"enmascarante_cut.wav\",fs,mask_new)"
   ]
  },
  {
   "cell_type": "code",
   "execution_count": 16,
   "id": "9076fa11",
   "metadata": {},
   "outputs": [
    {
     "data": {
      "text/plain": [
       "[<matplotlib.lines.Line2D at 0x7fc081a0ca30>]"
      ]
     },
     "execution_count": 16,
     "metadata": {},
     "output_type": "execute_result"
    },
    {
     "data": {
      "image/png": "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\n",
      "text/plain": [
       "<Figure size 2800x600 with 1 Axes>"
      ]
     },
     "metadata": {},
     "output_type": "display_data"
    }
   ],
   "source": [
    "plt.plot(mask_new)"
   ]
  },
  {
   "cell_type": "code",
   "execution_count": 44,
   "id": "e5d2b2b3",
   "metadata": {},
   "outputs": [],
   "source": [
    "sd.play(mask_new, fs, mapping=[1])"
   ]
  },
  {
   "cell_type": "markdown",
   "id": "7445a6a9",
   "metadata": {},
   "source": [
    "# Genera Bloques\n",
    "\n",
    "Contrabalanceados, por primera presentacion y por columna (con repeticiones)\n",
    "para un dado numero de sujetos, cantidad de estimulos (aca fijo en 6) y cantidad de repeticiones"
   ]
  },
  {
   "cell_type": "code",
   "execution_count": 34,
   "id": "9ccc0f62",
   "metadata": {
    "ExecuteTime": {
     "end_time": "2022-12-02T03:28:20.541251Z",
     "start_time": "2022-12-02T03:28:20.521960Z"
    }
   },
   "outputs": [
    {
     "data": {
      "text/plain": [
       "array([[1, 4, 3, 2, 1, 4, 3, 2, 1, 4, 3, 2, 1, 4, 3, 2, 1, 4, 3, 2],\n",
       "       [2, 1, 4, 3, 2, 1, 4, 3, 2, 1, 4, 3, 2, 1, 4, 3, 2, 1, 4, 3],\n",
       "       [3, 2, 1, 4, 3, 2, 1, 4, 3, 2, 1, 4, 3, 2, 1, 4, 3, 2, 1, 4],\n",
       "       [4, 3, 2, 1, 4, 3, 2, 1, 4, 3, 2, 1, 4, 3, 2, 1, 4, 3, 2, 1],\n",
       "       [1, 4, 3, 2, 1, 4, 3, 2, 1, 4, 3, 2, 1, 4, 3, 2, 1, 4, 3, 2],\n",
       "       [2, 1, 4, 3, 2, 1, 4, 3, 2, 1, 4, 3, 2, 1, 4, 3, 2, 1, 4, 3],\n",
       "       [3, 2, 1, 4, 3, 2, 1, 4, 3, 2, 1, 4, 3, 2, 1, 4, 3, 2, 1, 4],\n",
       "       [4, 3, 2, 1, 4, 3, 2, 1, 4, 3, 2, 1, 4, 3, 2, 1, 4, 3, 2, 1],\n",
       "       [1, 4, 3, 2, 1, 4, 3, 2, 1, 4, 3, 2, 1, 4, 3, 2, 1, 4, 3, 2],\n",
       "       [2, 1, 4, 3, 2, 1, 4, 3, 2, 1, 4, 3, 2, 1, 4, 3, 2, 1, 4, 3],\n",
       "       [3, 2, 1, 4, 3, 2, 1, 4, 3, 2, 1, 4, 3, 2, 1, 4, 3, 2, 1, 4],\n",
       "       [4, 3, 2, 1, 4, 3, 2, 1, 4, 3, 2, 1, 4, 3, 2, 1, 4, 3, 2, 1],\n",
       "       [1, 4, 3, 2, 1, 4, 3, 2, 1, 4, 3, 2, 1, 4, 3, 2, 1, 4, 3, 2],\n",
       "       [2, 1, 4, 3, 2, 1, 4, 3, 2, 1, 4, 3, 2, 1, 4, 3, 2, 1, 4, 3],\n",
       "       [3, 2, 1, 4, 3, 2, 1, 4, 3, 2, 1, 4, 3, 2, 1, 4, 3, 2, 1, 4],\n",
       "       [4, 3, 2, 1, 4, 3, 2, 1, 4, 3, 2, 1, 4, 3, 2, 1, 4, 3, 2, 1],\n",
       "       [1, 4, 3, 2, 1, 4, 3, 2, 1, 4, 3, 2, 1, 4, 3, 2, 1, 4, 3, 2],\n",
       "       [2, 1, 4, 3, 2, 1, 4, 3, 2, 1, 4, 3, 2, 1, 4, 3, 2, 1, 4, 3],\n",
       "       [3, 2, 1, 4, 3, 2, 1, 4, 3, 2, 1, 4, 3, 2, 1, 4, 3, 2, 1, 4],\n",
       "       [4, 3, 2, 1, 4, 3, 2, 1, 4, 3, 2, 1, 4, 3, 2, 1, 4, 3, 2, 1],\n",
       "       [1, 4, 3, 2, 1, 4, 3, 2, 1, 4, 3, 2, 1, 4, 3, 2, 1, 4, 3, 2],\n",
       "       [2, 1, 4, 3, 2, 1, 4, 3, 2, 1, 4, 3, 2, 1, 4, 3, 2, 1, 4, 3],\n",
       "       [3, 2, 1, 4, 3, 2, 1, 4, 3, 2, 1, 4, 3, 2, 1, 4, 3, 2, 1, 4],\n",
       "       [4, 3, 2, 1, 4, 3, 2, 1, 4, 3, 2, 1, 4, 3, 2, 1, 4, 3, 2, 1],\n",
       "       [1, 4, 3, 2, 1, 4, 3, 2, 1, 4, 3, 2, 1, 4, 3, 2, 1, 4, 3, 2],\n",
       "       [2, 1, 4, 3, 2, 1, 4, 3, 2, 1, 4, 3, 2, 1, 4, 3, 2, 1, 4, 3],\n",
       "       [3, 2, 1, 4, 3, 2, 1, 4, 3, 2, 1, 4, 3, 2, 1, 4, 3, 2, 1, 4],\n",
       "       [4, 3, 2, 1, 4, 3, 2, 1, 4, 3, 2, 1, 4, 3, 2, 1, 4, 3, 2, 1],\n",
       "       [1, 4, 3, 2, 1, 4, 3, 2, 1, 4, 3, 2, 1, 4, 3, 2, 1, 4, 3, 2],\n",
       "       [2, 1, 4, 3, 2, 1, 4, 3, 2, 1, 4, 3, 2, 1, 4, 3, 2, 1, 4, 3],\n",
       "       [3, 2, 1, 4, 3, 2, 1, 4, 3, 2, 1, 4, 3, 2, 1, 4, 3, 2, 1, 4],\n",
       "       [4, 3, 2, 1, 4, 3, 2, 1, 4, 3, 2, 1, 4, 3, 2, 1, 4, 3, 2, 1],\n",
       "       [1, 4, 3, 2, 1, 4, 3, 2, 1, 4, 3, 2, 1, 4, 3, 2, 1, 4, 3, 2],\n",
       "       [2, 1, 4, 3, 2, 1, 4, 3, 2, 1, 4, 3, 2, 1, 4, 3, 2, 1, 4, 3],\n",
       "       [3, 2, 1, 4, 3, 2, 1, 4, 3, 2, 1, 4, 3, 2, 1, 4, 3, 2, 1, 4],\n",
       "       [4, 3, 2, 1, 4, 3, 2, 1, 4, 3, 2, 1, 4, 3, 2, 1, 4, 3, 2, 1]])"
      ]
     },
     "execution_count": 34,
     "metadata": {},
     "output_type": "execute_result"
    }
   ],
   "source": [
    "nsub = 36\n",
    "nrep = 5\n",
    "nstim = 4\n",
    "nbloques = 6\n",
    "bloque = np.zeros((nsub,nstim*nrep),dtype=int)\n",
    "nrepini = int(np.floor(nsub/nstim))\n",
    "s1 = np.arange(1,nstim+1)\n",
    "s2 = np.tile(s1,nrepini)\n",
    "s3 = np.append(s2,np.arange(1,nsub-nrepini*nstim+1))\n",
    "for n in np.arange(nstim*nrep):\n",
    "    bloque[:,n] = s3\n",
    "    s3 = np.roll(s3,1)\n",
    "bloque    "
   ]
  },
  {
   "cell_type": "code",
   "execution_count": 35,
   "id": "f42d12ac",
   "metadata": {
    "ExecuteTime": {
     "end_time": "2022-12-02T03:31:40.070971Z",
     "start_time": "2022-12-02T03:31:40.054719Z"
    }
   },
   "outputs": [
    {
     "data": {
      "text/plain": [
       "array([[2, 1, 2, 1, 4, 3, 2, 2, 3, 3, 2, 4, 3, 4, 1, 3, 1, 4, 4, 1],\n",
       "       [3, 2, 3, 2, 1, 4, 3, 3, 4, 4, 3, 1, 4, 1, 2, 4, 2, 1, 1, 2],\n",
       "       [4, 3, 4, 3, 2, 1, 4, 4, 1, 1, 4, 2, 1, 2, 3, 1, 3, 2, 2, 3],\n",
       "       [1, 4, 1, 4, 3, 2, 1, 1, 2, 2, 1, 3, 2, 3, 4, 2, 4, 3, 3, 4],\n",
       "       [2, 1, 2, 1, 4, 3, 2, 2, 3, 3, 2, 4, 3, 4, 1, 3, 1, 4, 4, 1],\n",
       "       [3, 2, 3, 2, 1, 4, 3, 3, 4, 4, 3, 1, 4, 1, 2, 4, 2, 1, 1, 2],\n",
       "       [4, 3, 4, 3, 2, 1, 4, 4, 1, 1, 4, 2, 1, 2, 3, 1, 3, 2, 2, 3],\n",
       "       [1, 4, 1, 4, 3, 2, 1, 1, 2, 2, 1, 3, 2, 3, 4, 2, 4, 3, 3, 4],\n",
       "       [2, 1, 2, 1, 4, 3, 2, 2, 3, 3, 2, 4, 3, 4, 1, 3, 1, 4, 4, 1],\n",
       "       [3, 2, 3, 2, 1, 4, 3, 3, 4, 4, 3, 1, 4, 1, 2, 4, 2, 1, 1, 2],\n",
       "       [4, 3, 4, 3, 2, 1, 4, 4, 1, 1, 4, 2, 1, 2, 3, 1, 3, 2, 2, 3],\n",
       "       [1, 4, 1, 4, 3, 2, 1, 1, 2, 2, 1, 3, 2, 3, 4, 2, 4, 3, 3, 4],\n",
       "       [2, 1, 2, 1, 4, 3, 2, 2, 3, 3, 2, 4, 3, 4, 1, 3, 1, 4, 4, 1],\n",
       "       [3, 2, 3, 2, 1, 4, 3, 3, 4, 4, 3, 1, 4, 1, 2, 4, 2, 1, 1, 2],\n",
       "       [4, 3, 4, 3, 2, 1, 4, 4, 1, 1, 4, 2, 1, 2, 3, 1, 3, 2, 2, 3],\n",
       "       [1, 4, 1, 4, 3, 2, 1, 1, 2, 2, 1, 3, 2, 3, 4, 2, 4, 3, 3, 4],\n",
       "       [2, 1, 2, 1, 4, 3, 2, 2, 3, 3, 2, 4, 3, 4, 1, 3, 1, 4, 4, 1],\n",
       "       [3, 2, 3, 2, 1, 4, 3, 3, 4, 4, 3, 1, 4, 1, 2, 4, 2, 1, 1, 2],\n",
       "       [4, 3, 4, 3, 2, 1, 4, 4, 1, 1, 4, 2, 1, 2, 3, 1, 3, 2, 2, 3],\n",
       "       [1, 4, 1, 4, 3, 2, 1, 1, 2, 2, 1, 3, 2, 3, 4, 2, 4, 3, 3, 4],\n",
       "       [2, 1, 2, 1, 4, 3, 2, 2, 3, 3, 2, 4, 3, 4, 1, 3, 1, 4, 4, 1],\n",
       "       [3, 2, 3, 2, 1, 4, 3, 3, 4, 4, 3, 1, 4, 1, 2, 4, 2, 1, 1, 2],\n",
       "       [4, 3, 4, 3, 2, 1, 4, 4, 1, 1, 4, 2, 1, 2, 3, 1, 3, 2, 2, 3],\n",
       "       [1, 4, 1, 4, 3, 2, 1, 1, 2, 2, 1, 3, 2, 3, 4, 2, 4, 3, 3, 4],\n",
       "       [2, 1, 2, 1, 4, 3, 2, 2, 3, 3, 2, 4, 3, 4, 1, 3, 1, 4, 4, 1],\n",
       "       [3, 2, 3, 2, 1, 4, 3, 3, 4, 4, 3, 1, 4, 1, 2, 4, 2, 1, 1, 2],\n",
       "       [4, 3, 4, 3, 2, 1, 4, 4, 1, 1, 4, 2, 1, 2, 3, 1, 3, 2, 2, 3],\n",
       "       [1, 4, 1, 4, 3, 2, 1, 1, 2, 2, 1, 3, 2, 3, 4, 2, 4, 3, 3, 4],\n",
       "       [2, 1, 2, 1, 4, 3, 2, 2, 3, 3, 2, 4, 3, 4, 1, 3, 1, 4, 4, 1],\n",
       "       [3, 2, 3, 2, 1, 4, 3, 3, 4, 4, 3, 1, 4, 1, 2, 4, 2, 1, 1, 2],\n",
       "       [4, 3, 4, 3, 2, 1, 4, 4, 1, 1, 4, 2, 1, 2, 3, 1, 3, 2, 2, 3],\n",
       "       [1, 4, 1, 4, 3, 2, 1, 1, 2, 2, 1, 3, 2, 3, 4, 2, 4, 3, 3, 4],\n",
       "       [2, 1, 2, 1, 4, 3, 2, 2, 3, 3, 2, 4, 3, 4, 1, 3, 1, 4, 4, 1],\n",
       "       [3, 2, 3, 2, 1, 4, 3, 3, 4, 4, 3, 1, 4, 1, 2, 4, 2, 1, 1, 2],\n",
       "       [4, 3, 4, 3, 2, 1, 4, 4, 1, 1, 4, 2, 1, 2, 3, 1, 3, 2, 2, 3],\n",
       "       [1, 4, 1, 4, 3, 2, 1, 1, 2, 2, 1, 3, 2, 3, 4, 2, 4, 3, 3, 4]])"
      ]
     },
     "execution_count": 35,
     "metadata": {},
     "output_type": "execute_result"
    }
   ],
   "source": [
    "# Suffle de columnas, no altera la secuencia entre sujetos\n",
    "np.random.shuffle(bloque.T)\n",
    "bloque"
   ]
  },
  {
   "cell_type": "markdown",
   "id": "eeb8f9b7",
   "metadata": {},
   "source": [
    "el anterior tiene la misma cantidad de presentaciones de estimulo por linea y por columna pero con repeticiones, podemos generar uno nuevo dejando solo contrabalanceado el primer trial"
   ]
  },
  {
   "cell_type": "code",
   "execution_count": 36,
   "id": "09b147b0",
   "metadata": {},
   "outputs": [],
   "source": [
    "bloques_all = np.zeros((nsub,nbloques,nstim*nrep),dtype=int)\n",
    "for n in range(nsub):\n",
    "    for m in range(nbloques):\n",
    "        bloques_all[n,m,0] = np.mod(bloque[n,0]+m,nstim)+1\n",
    "        bloques_all[n,m,1:] = np.random.permutation(bloque[n,1:])"
   ]
  },
  {
   "cell_type": "code",
   "execution_count": 37,
   "id": "24778fb3",
   "metadata": {},
   "outputs": [
    {
     "data": {
      "text/plain": [
       "array([[[3, 3, 3, ..., 3, 2, 3],\n",
       "        [4, 4, 3, ..., 1, 4, 3],\n",
       "        [1, 3, 3, ..., 2, 4, 4],\n",
       "        [2, 1, 3, ..., 3, 4, 4],\n",
       "        [3, 3, 3, ..., 4, 2, 3],\n",
       "        [4, 4, 1, ..., 3, 4, 1]],\n",
       "\n",
       "       [[4, 1, 3, ..., 2, 1, 1],\n",
       "        [1, 1, 1, ..., 2, 4, 3],\n",
       "        [2, 1, 3, ..., 1, 2, 1],\n",
       "        [3, 3, 4, ..., 2, 4, 2],\n",
       "        [4, 2, 1, ..., 1, 2, 4],\n",
       "        [1, 2, 1, ..., 3, 3, 4]],\n",
       "\n",
       "       [[1, 1, 3, ..., 2, 2, 3],\n",
       "        [2, 1, 2, ..., 3, 1, 1],\n",
       "        [3, 4, 1, ..., 3, 4, 2],\n",
       "        [4, 1, 4, ..., 2, 3, 1],\n",
       "        [1, 3, 3, ..., 3, 3, 1],\n",
       "        [2, 2, 2, ..., 4, 4, 1]],\n",
       "\n",
       "       ...,\n",
       "\n",
       "       [[4, 1, 3, ..., 4, 2, 1],\n",
       "        [1, 1, 3, ..., 1, 1, 2],\n",
       "        [2, 1, 3, ..., 3, 4, 4],\n",
       "        [3, 2, 3, ..., 2, 2, 3],\n",
       "        [4, 3, 3, ..., 1, 2, 2],\n",
       "        [1, 3, 1, ..., 3, 3, 2]],\n",
       "\n",
       "       [[1, 2, 1, ..., 1, 2, 2],\n",
       "        [2, 2, 4, ..., 4, 2, 3],\n",
       "        [3, 4, 4, ..., 2, 1, 1],\n",
       "        [4, 1, 3, ..., 1, 3, 1],\n",
       "        [1, 1, 1, ..., 2, 4, 3],\n",
       "        [2, 1, 1, ..., 3, 1, 3]],\n",
       "\n",
       "       [[2, 1, 1, ..., 2, 4, 4],\n",
       "        [3, 3, 4, ..., 3, 1, 2],\n",
       "        [4, 4, 4, ..., 2, 4, 3],\n",
       "        [1, 1, 4, ..., 2, 1, 2],\n",
       "        [2, 4, 3, ..., 1, 2, 2],\n",
       "        [3, 4, 1, ..., 3, 2, 1]]])"
      ]
     },
     "execution_count": 37,
     "metadata": {},
     "output_type": "execute_result"
    }
   ],
   "source": [
    "bloques_all"
   ]
  },
  {
   "cell_type": "code",
   "execution_count": 38,
   "id": "de4595f5",
   "metadata": {},
   "outputs": [],
   "source": [
    "np.save(\"bloques.npy\",bloques_all)"
   ]
  },
  {
   "cell_type": "code",
   "execution_count": 22,
   "id": "364cfaeb",
   "metadata": {},
   "outputs": [
    {
     "data": {
      "text/plain": [
       "array([3, 2, 1, 2, 2, 3, 2, 4, 4, 1, 1, 3, 4, 4, 3, 1, 2, 4, 3, 3])"
      ]
     },
     "execution_count": 22,
     "metadata": {},
     "output_type": "execute_result"
    }
   ],
   "source": [
    "bloques_all[2,2,:]"
   ]
  },
  {
   "cell_type": "code",
   "execution_count": 43,
   "id": "15c7f742",
   "metadata": {},
   "outputs": [
    {
     "data": {
      "text/plain": [
       "['bloque', 'bloque1', 'bloque2']"
      ]
     },
     "execution_count": 43,
     "metadata": {},
     "output_type": "execute_result"
    }
   ],
   "source": [
    "list(bloques.keys())"
   ]
  },
  {
   "cell_type": "code",
   "execution_count": 46,
   "id": "9066bfe3",
   "metadata": {},
   "outputs": [
    {
     "data": {
      "text/plain": [
       "array([5, 4, 2, 4, 1, 6, 1, 6, 3, 6, 3, 4, 1, 2, 5, 2, 3, 5])"
      ]
     },
     "execution_count": 46,
     "metadata": {},
     "output_type": "execute_result"
    }
   ],
   "source": [
    "bloques['bloque1'][3]"
   ]
  },
  {
   "cell_type": "code",
   "execution_count": 32,
   "id": "dbff7bff",
   "metadata": {},
   "outputs": [],
   "source": [
    "file_bloques = \"bloques.npy\"\n",
    "nsub=1\n",
    "bloque=0\n",
    "bloques = np.load(file_bloques)\n",
    "trial_order = bloques[nsub,bloque,:]"
   ]
  },
  {
   "cell_type": "code",
   "execution_count": 33,
   "id": "02022984",
   "metadata": {},
   "outputs": [
    {
     "data": {
      "text/plain": [
       "array([0, 1, 2, 3, 4, 4, 3, 2, 2, 1, 3, 1, 4, 1, 3, 4, 2, 2, 3, 1])"
      ]
     },
     "execution_count": 33,
     "metadata": {},
     "output_type": "execute_result"
    }
   ],
   "source": [
    "trial_order"
   ]
  },
  {
   "cell_type": "code",
   "execution_count": 53,
   "id": "b889562c",
   "metadata": {},
   "outputs": [
    {
     "data": {
      "text/plain": [
       "array([4, 2, 3, 1])"
      ]
     },
     "execution_count": 53,
     "metadata": {},
     "output_type": "execute_result"
    }
   ],
   "source": [
    "seq_array = np.array([[1,3,2,4],[4,2,3,1]])\n",
    "seq = seq_array[np.random.choice(2,1)[0]]\n",
    "seq"
   ]
  },
  {
   "cell_type": "code",
   "execution_count": 51,
   "id": "6d697011",
   "metadata": {},
   "outputs": [
    {
     "data": {
      "text/plain": [
       "array([[1, 3, 2, 4]])"
      ]
     },
     "execution_count": 51,
     "metadata": {},
     "output_type": "execute_result"
    }
   ],
   "source": [
    "seq_array[np.random.choice(2,1)]"
   ]
  },
  {
   "cell_type": "code",
   "execution_count": 52,
   "id": "393c1206",
   "metadata": {},
   "outputs": [
    {
     "data": {
      "text/plain": [
       "0"
      ]
     },
     "execution_count": 52,
     "metadata": {},
     "output_type": "execute_result"
    }
   ],
   "source": [
    "np.random.choice(2,1)[0]"
   ]
  },
  {
   "cell_type": "code",
   "execution_count": null,
   "id": "3e3132e5",
   "metadata": {},
   "outputs": [],
   "source": []
  }
 ],
 "metadata": {
  "kernelspec": {
   "display_name": "Python 3 (ipykernel)",
   "language": "python",
   "name": "python3"
  },
  "language_info": {
   "codemirror_mode": {
    "name": "ipython",
    "version": 3
   },
   "file_extension": ".py",
   "mimetype": "text/x-python",
   "name": "python",
   "nbconvert_exporter": "python",
   "pygments_lexer": "ipython3",
   "version": "3.9.13"
  },
  "toc": {
   "base_numbering": 1,
   "nav_menu": {},
   "number_sections": true,
   "sideBar": true,
   "skip_h1_title": false,
   "title_cell": "Table of Contents",
   "title_sidebar": "Contents",
   "toc_cell": false,
   "toc_position": {},
   "toc_section_display": true,
   "toc_window_display": false
  }
 },
 "nbformat": 4,
 "nbformat_minor": 5
}
